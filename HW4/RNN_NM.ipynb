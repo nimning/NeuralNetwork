{
 "cells": [
  {
   "cell_type": "code",
   "execution_count": 1,
   "metadata": {
    "collapsed": true
   },
   "outputs": [],
   "source": [
    "#################################################\n",
    "import urllib2\n",
    "import numpy as np\n",
    "\n",
    "def getData(url):\n",
    "    # open file from the internet, and read the data into text\n",
    "    f = urllib2.urlopen(url)\n",
    "    text = f.read()\n",
    "    \n",
    "    # if i == ord(c), then int(i == ord(c)) is 1. \n",
    "    # if i != ord(c), then int(i == ord(c)) is 0. \n",
    "    data = [[int(i == ord(c)) for i in xrange(256)] for c in text]\n",
    "    \n",
    "    return np.array(data) \n",
    "\n",
    "# the data we are reading in is the ebook war and peace. \n",
    "# should be extremely long. \n",
    "url = \"http://www.gutenberg.org/cache/epub/2600/pg2600.txt\"\n",
    "data = getData(url)\n",
    "#################################################"
   ]
  },
  {
   "cell_type": "code",
   "execution_count": 23,
   "metadata": {
    "collapsed": false
   },
   "outputs": [
    {
     "name": "stdout",
     "output_type": "stream",
     "text": [
      "(3291648, 256)\n",
      "(256,)\n"
     ]
    }
   ],
   "source": [
    "print data.shape\n",
    "print data[0].shape"
   ]
  },
  {
   "cell_type": "code",
   "execution_count": 73,
   "metadata": {
    "collapsed": true
   },
   "outputs": [],
   "source": [
    "subData = data[0:999,:]\n",
    "import RNN\n",
    "reload(RNN)\n",
    "from RNN import RNNNet"
   ]
  },
  {
   "cell_type": "code",
   "execution_count": 76,
   "metadata": {
    "collapsed": false
   },
   "outputs": [],
   "source": [
    "rng = np.random.RandomState(1234)\n",
    "##object of RNN class\n",
    "rnn = RNNNet(rng, 256, 50, 256)\n",
    "#train the RNN\n",
    "epoch = 20\n",
    "trainLoss = np.zeros((epoch))\n",
    "for i in range(0,epoch):\n",
    "    rnn.train(subData)\n",
    "    trainLoss[i] = rnn.trainingLoss(subData)"
   ]
  },
  {
   "cell_type": "code",
   "execution_count": 77,
   "metadata": {
    "collapsed": false
   },
   "outputs": [
    {
     "data": {
      "text/plain": [
       "[<matplotlib.lines.Line2D at 0x115030c10>]"
      ]
     },
     "execution_count": 77,
     "metadata": {},
     "output_type": "execute_result"
    },
    {
     "data": {
      "image/png": "[encoded data removed]",
      "text/plain": [
       "<matplotlib.figure.Figure at 0x114df3490>"
      ]
     },
     "metadata": {},
     "output_type": "display_data"
    }
   ],
   "source": [
    "%matplotlib inline\n",
    "plt.plot(trainLoss)"
   ]
  },
  {
   "cell_type": "code",
   "execution_count": 78,
   "metadata": {
    "collapsed": false
   },
   "outputs": [],
   "source": [
    "sequence = rnn.test(4,50)"
   ]
  },
  {
   "cell_type": "code",
   "execution_count": 83,
   "metadata": {
    "collapsed": false
   },
   "outputs": [
    {
     "name": "stdout",
     "output_type": "stream",
     "text": [
      "\u0004\n",
      "\u0017\n",
      "±\n",
      "ª\n",
      "f\n",
      "\n",
      "¥\n",
      "&\n",
      "z\n",
      "b\n",
      "Q\n",
      "J\n",
      "¤\n",
      "M\n",
      "\n",
      "C\n",
      "",
      "\n",
      "\n",
      "Ô\n",
      "\u000b",
      "\n",
      "$\n",
      "5\n",
      "\u000f\n",
      "w\n",
      "&\n",
      "\n",
      "G\n",
      "]\n",
      "B\n",
      "¡\n",
      "\u001e",
      "\n",
      "Ç\n",
      "ó\n",
      "±\n",
      ",\n",
      "¯\n",
      "Ý\n",
      "\n",
      "4\n",
      "ã\n",
      "È\n",
      "j\n",
      "\n",
      "¨\n",
      "U\n",
      "a\n",
      "¤\n",
      "N\n",
      "\u0004\n",
      "\n",
      "3\n"
     ]
    }
   ],
   "source": [
    "for i in range(len(sequence)):\n",
    "    print sequence[i]"
   ]
  },
  {
   "cell_type": "code",
   "execution_count": null,
   "metadata": {
    "collapsed": true
   },
   "outputs": [],
   "source": []
  }
 ],
 "metadata": {
  "kernelspec": {
   "display_name": "Python 2",
   "language": "python",
   "name": "python2"
  },
  "language_info": {
   "codemirror_mode": {
    "name": "ipython",
    "version": 2
   },
   "file_extension": ".py",
   "mimetype": "text/x-python",
   "name": "python",
   "nbconvert_exporter": "python",
   "pygments_lexer": "ipython2",
   "version": "2.7.10"
  }
 },
 "nbformat": 4,
 "nbformat_minor": 0
}
